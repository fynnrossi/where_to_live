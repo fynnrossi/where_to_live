{
 "cells": [
  {
   "cell_type": "code",
   "execution_count": null,
   "metadata": {},
   "outputs": [],
   "source": [
    "\n",
    "import pandas as pd\n",
    "import networkx as nx\n",
    "\n",
    "from housing_tool_functions import *\n",
    "\n",
    "# Your TfL API credentials\n",
    "APP_ID = \"3cb9dfb82bc34e31bf5f16c6d7489a90\"\n",
    "APP_KEY = \"dcb75d96d65141e8b05cdc1cfb137682\"\n",
    "\n",
    "stations_names = list(pd.read_csv('london.stations.csv')['name'])\n",
    "connections = pd.read_csv('london.connections.csv')\n",
    "\n",
    "# Build graph and load connections DataFrame\n",
    "G = build_graph_from_csv('london.stations.csv', 'london.lines.csv', 'london.connections.csv')\n",
    "connections_df = pd.read_csv('london.connections.csv')\n"
   ]
  },
  {
   "cell_type": "code",
   "execution_count": 29,
   "metadata": {},
   "outputs": [],
   "source": [
    "\n",
    "\n",
    "\n",
    "# Set criteria\n",
    "start_station = \"Bank\"  # You can also provide a station code (int)\n",
    "max_stops = 3\n",
    "max_travel_time = 10.0  # e.g., 10 minutes\n",
    "\n",
    "(all_routes, route_names, route_times, filtered_routes,\n",
    "    reachable_stations, unique_end_routes) = find_routes_by_criteria(G, connections_df, start_station, max_stops, max_travel_time)\n",
    "\n"
   ]
  },
  {
   "cell_type": "code",
   "execution_count": 36,
   "metadata": {},
   "outputs": [
    {
     "data": {
      "text/plain": [
       "[['Bank', 'Liverpool Street', 'Bethnal Green'],\n",
       " ['Bank', 'Liverpool Street', 'Aldgate'],\n",
       " ['Bank', 'Liverpool Street', 'Moorgate'],\n",
       " ['Bank', 'Liverpool Street', 'Aldgate East'],\n",
       " ['Bank', \"St. Paul's\", 'Chancery Lane'],\n",
       " ['Bank', 'Shadwell', 'Limehouse'],\n",
       " ['Bank', 'Shadwell', 'Tower Gateway'],\n",
       " ['Bank', 'Shadwell', 'Wapping'],\n",
       " ['Bank', 'Shadwell', 'Whitechapel'],\n",
       " ['Bank', 'London Bridge', 'Bermondsey'],\n",
       " ['Bank', 'London Bridge', 'Southwark'],\n",
       " ['Bank', 'London Bridge', 'Borough'],\n",
       " ['Bank', 'Moorgate', 'Barbican'],\n",
       " ['Bank', 'Moorgate', 'Liverpool Street'],\n",
       " ['Bank', 'Moorgate', 'Old Street'],\n",
       " ['Bank', 'Waterloo', 'Embankment'],\n",
       " ['Bank', 'Waterloo', 'Lambeth North'],\n",
       " ['Bank', 'Waterloo', 'Southwark'],\n",
       " ['Bank', 'Waterloo', 'Westminster'],\n",
       " ['Bank', 'Waterloo', 'Kennington']]"
      ]
     },
     "execution_count": 36,
     "metadata": {},
     "output_type": "execute_result"
    }
   ],
   "source": [
    "route_names"
   ]
  },
  {
   "cell_type": "code",
   "execution_count": 25,
   "metadata": {},
   "outputs": [],
   "source": [
    "# Define destination requirements with station names.\n",
    "destinations = [\n",
    "    (\"Canary Wharf\", 1),\n",
    "    (\"Clapham Common\", 1),\n",
    "    (\"Old Street\", 1),\n",
    "    (\"Morden\", 1)\n",
    "]\n",
    "\n",
    "# Find all stations sorted by total weekly travel time\n",
    "sorted_stations = find_all_stations_sorted_by_travel_time(G, destinations)"
   ]
  },
  {
   "cell_type": "code",
   "execution_count": null,
   "metadata": {},
   "outputs": [],
   "source": []
  }
 ],
 "metadata": {
  "kernelspec": {
   "display_name": "mememem",
   "language": "python",
   "name": "python3"
  },
  "language_info": {
   "codemirror_mode": {
    "name": "ipython",
    "version": 3
   },
   "file_extension": ".py",
   "mimetype": "text/x-python",
   "name": "python",
   "nbconvert_exporter": "python",
   "pygments_lexer": "ipython3",
   "version": "3.11.11"
  }
 },
 "nbformat": 4,
 "nbformat_minor": 2
}
